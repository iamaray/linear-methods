{
 "cells": [
  {
   "cell_type": "markdown",
   "metadata": {},
   "source": [
    "# Least Squares Regression\n",
    "Let us first examine the case of modeling a single output. Say we have a single input vector $X = (x_1 \\quad x_2 \\quad\\cdots\\quad x_p)^{T}$ and a single real-valued output $Y$. We seek to estimate $Y$ given $X$. We do so using a **linear model**, which takes the general form: $$\\hat{Y} = \\hat\\beta_{0} + \\sum_{j = 1}^{p}X_{j}\\hat \\beta_{j} \\qquad p = \\dim X.$$ It is common practice to include $1$ in the input vector $X$, yielding the inner product $ \\hat Y = X^T \\hat \\beta.$\n",
    "\n",
    "## Squared Loss\n",
    "Now, we look past a single input/output and look towards fitting the model to some training set \n",
    "\n",
    "$$\\mathcal T = \\{(x_1, y_1) \\quad (x_2, y_2) \\quad \\cdots \\quad (x_N, y_N)\\},$$ \n",
    "\n",
    "where the $x_i, y_i$ pairs are input vectors and real-valued outputs respectively. Let $X = [x_i^T]$ be the $N \\times (p + 1)$ matrix of the input vectors as rows (with $1$'s prepended to each), and let $\\mathbf y = [y_i]$ be the vector of the $N$ outputs. The *least squares* aspect of our linear fit comes from our choice of $\\hat\\beta$ as the vector minimizing the *residual sum of squares* loss function: \n",
    "\n",
    "$$ \\operatorname{RSS}(\\beta) = \\sum_{i = 1}^{\\mathcal N}(y_i - X^T_i \\beta)^2, $$ \n",
    "\n",
    "where $X_i$ is the $i$-th row of $X$. To minimize $\\operatorname{RSS}$, differentiate with respect to $\\beta$ and set the result equal to zero, giving the **normal equations**: $ X^T (\\mathbf y - X \\beta) = 0, $ which further beget the unique minimizing solution (given that $X$ is full rank) $\\hat\\beta = (X^T X)^{-1} X^T \\mathbf y.$ Hence, the estimate may be written as $\\hat{\\mathbf{y}} = X\\hat\\beta = X(X^T X)^{-1} X^T \\mathbf{y}$."
   ]
  }
 ],
 "metadata": {
  "kernelspec": {
   "display_name": "nlp",
   "language": "python",
   "name": "python3"
  },
  "language_info": {
   "codemirror_mode": {
    "name": "ipython",
    "version": 3
   },
   "file_extension": ".py",
   "mimetype": "text/x-python",
   "name": "python",
   "nbconvert_exporter": "python",
   "pygments_lexer": "ipython3",
   "version": "3.12.0"
  }
 },
 "nbformat": 4,
 "nbformat_minor": 2
}
